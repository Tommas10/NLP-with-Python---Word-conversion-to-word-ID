{
 "cells": [
  {
   "cell_type": "code",
   "execution_count": 8,
   "metadata": {},
   "outputs": [
    {
     "data": {
      "text/plain": [
       "{'you': 0, 'say': 1, 'goodbye': 2, 'and': 3, 'i': 4, 'hello.': 5}"
      ]
     },
     "execution_count": 8,
     "metadata": {},
     "output_type": "execute_result"
    }
   ],
   "source": [
    "text='You say goodbye and I say hello.'\n",
    "word_to_id={}\n",
    "#變數 word_to_id 負責把字詞轉換成字詞 ID。 \n",
    "id_to_word={}\n",
    "#變數 id_to_word 負責將字詞 ID 轉換成字詞 (Key 是字詞 ID，值是字詞)\n",
    "for word in words:\n",
    "    if word not in word_to_id:\n",
    "        new_id=len(word_to_id)\n",
    "        word_to_id[word]=new_id\n",
    "        id_to_word[new_id]=word\n",
    "\n",
    "id_to_word\n",
    "word_to_id"
   ]
  },
  {
   "cell_type": "code",
   "execution_count": null,
   "metadata": {},
   "outputs": [],
   "source": []
  },
  {
   "cell_type": "code",
   "execution_count": null,
   "metadata": {},
   "outputs": [],
   "source": []
  }
 ],
 "metadata": {
  "kernelspec": {
   "display_name": "Python 3",
   "language": "python",
   "name": "python3"
  },
  "language_info": {
   "codemirror_mode": {
    "name": "ipython",
    "version": 3
   },
   "file_extension": ".py",
   "mimetype": "text/x-python",
   "name": "python",
   "nbconvert_exporter": "python",
   "pygments_lexer": "ipython3",
   "version": "3.7.3"
  }
 },
 "nbformat": 4,
 "nbformat_minor": 2
}
